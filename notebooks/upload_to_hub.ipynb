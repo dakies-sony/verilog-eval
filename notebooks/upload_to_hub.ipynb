{
 "cells": [
  {
   "cell_type": "code",
   "execution_count": 6,
   "metadata": {},
   "outputs": [
    {
     "data": {
      "application/vnd.jupyter.widget-view+json": {
       "model_id": "b7806965fbb0485e8e396a6641e58292",
       "version_major": 2,
       "version_minor": 0
      },
      "text/plain": [
       "Saving the dataset (0/1 shards):   0%|          | 0/156 [00:00<?, ? examples/s]"
      ]
     },
     "metadata": {},
     "output_type": "display_data"
    }
   ],
   "source": [
    "import pandas as pd\n",
    "import datasets\n",
    "\n",
    "VERILOG_HUMAN_DESC_PATH = \"descriptions/VerilogDescription_Human.jsonl\"\n",
    "VERILOG_HUMAN_PORT_PATH = \"data/VerilogEval_Human.jsonl\"\n",
    "header = pd.read_json(path_or_buf=VERILOG_HUMAN_PORT_PATH, lines=True)\n",
    "descriptions = pd.read_json(path_or_buf=VERILOG_HUMAN_DESC_PATH, lines=True)\n",
    "tasks = pd.merge(header, descriptions, on=\"task_id\")\n",
    "\n",
    "# Convert to datasets.Dataset. All are test samples.\n",
    "dataset = datasets.Dataset.from_pandas(tasks, split=\"test\")\n",
    "\n",
    "\n",
    "# Save the dataset to disk (optional)\n",
    "dataset.save_to_disk(\"verilog_human_dataset\")\n"
   ]
  },
  {
   "cell_type": "code",
   "execution_count": 7,
   "metadata": {},
   "outputs": [],
   "source": [
    "# load dataset from disk\n",
    "dataset = datasets.load_from_disk(\"verilog_human_dataset\")"
   ]
  },
  {
   "cell_type": "code",
   "execution_count": 8,
   "metadata": {},
   "outputs": [
    {
     "name": "stdout",
     "output_type": "stream",
     "text": [
      "Dataset({\n",
      "    features: ['task_id', 'prompt', 'canonical_solution', 'test', 'detail_description'],\n",
      "    num_rows: 156\n",
      "})\n"
     ]
    }
   ],
   "source": [
    "print(dataset)"
   ]
  },
  {
   "cell_type": "code",
   "execution_count": 9,
   "metadata": {},
   "outputs": [
    {
     "data": {
      "application/vnd.jupyter.widget-view+json": {
       "model_id": "f04e14277b2c49d59bb88a151045fffe",
       "version_major": 2,
       "version_minor": 0
      },
      "text/plain": [
       "Uploading the dataset shards:   0%|          | 0/1 [00:00<?, ?it/s]"
      ]
     },
     "metadata": {},
     "output_type": "display_data"
    },
    {
     "data": {
      "application/vnd.jupyter.widget-view+json": {
       "model_id": "c56d710952544277b921b0951274fc0f",
       "version_major": 2,
       "version_minor": 0
      },
      "text/plain": [
       "Creating parquet from Arrow format:   0%|          | 0/1 [00:00<?, ?ba/s]"
      ]
     },
     "metadata": {},
     "output_type": "display_data"
    },
    {
     "data": {
      "text/plain": [
       "CommitInfo(commit_url='https://huggingface.co/datasets/dakies/nvidia-verilogeval/commit/cc5639696acd4726abe6ab98b3043f22db168d83', commit_message='Upload dataset', commit_description='', oid='cc5639696acd4726abe6ab98b3043f22db168d83', pr_url=None, repo_url=RepoUrl('https://huggingface.co/datasets/dakies/nvidia-verilogeval', endpoint='https://huggingface.co', repo_type='dataset', repo_id='dakies/nvidia-verilogeval'), pr_revision=None, pr_num=None)"
      ]
     },
     "execution_count": 9,
     "metadata": {},
     "output_type": "execute_result"
    }
   ],
   "source": [
    "# Upload to hub\n",
    "dataset.push_to_hub(\"dakies/nvidia-verilogeval\")\n"
   ]
  },
  {
   "cell_type": "code",
   "execution_count": null,
   "metadata": {},
   "outputs": [],
   "source": []
  }
 ],
 "metadata": {
  "kernelspec": {
   "display_name": "Python 3",
   "language": "python",
   "name": "python3"
  },
  "language_info": {
   "codemirror_mode": {
    "name": "ipython",
    "version": 3
   },
   "file_extension": ".py",
   "mimetype": "text/x-python",
   "name": "python",
   "nbconvert_exporter": "python",
   "pygments_lexer": "ipython3",
   "version": "3.10.0"
  }
 },
 "nbformat": 4,
 "nbformat_minor": 2
}
